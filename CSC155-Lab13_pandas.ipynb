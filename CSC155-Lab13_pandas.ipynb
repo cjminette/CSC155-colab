{
  "cells": [
    {
      "cell_type": "markdown",
      "metadata": {
        "id": "33QrFbNtL5bM"
      },
      "source": [
        "<h1 style='text-align:center'>Pandas Lab</h1>\n",
        "<h3 style='text-align:center'>Featuring Jupyter Notebook</h3>\n",
        "\n",
        "<h2>Overview</h2>\n",
        "<p>In this lab, you will be working with a dataset that contains information about various movies. This dataset includes details such as the movie title, director, genre, year of release, and IMDb rating. Your task will be to perform data manipulation and analysis using Pandas, a powerful data analysis library in Python. This assignment is designed to enhance your data handling skills and get you comfortable with basic data analysis techniques.  You may have to look up some functions.  You are also welcome to use an AI assistant.</p>\n",
        "\n",
        "<h2>Objectives</h2>\n",
        "<ul>\n",
        "    <li>Familiarize yourself with basic data manipulation tasks using Pandas.</li>\n",
        "    <li>Perform simple data analysis and extraction.</li>\n",
        "    <li>Understand how to filter and summarize dataset information.</li>\n",
        "</ul>\n",
        "<h2>Dataset Description</h2>\n",
        "\n",
        "<p>The dataset you will be working with is named movies_data.csv<br> It consists of the following columns:</p>\n",
        "\n",
        "\n",
        "    Movie ID: Unique identifier for each movie.\n",
        "    Title: Title of the movie.\n",
        "    Director: Name of the movie's director.\n",
        "    Genre: Genre of the movie.\n",
        "    Release Year: Year the movie was released.\n",
        "    IMDb Rating: The movie's rating on IMDb.\n",
        "\n",
        "<h2>Tasks</h2>"
      ]
    },
    {
      "cell_type": "markdown",
      "metadata": {
        "id": "YnmO5Ov_L5bP"
      },
      "source": [
        "<h3>Task 1: Setup Your Environment</h3>\n",
        "<ul>\n",
        "    <li>Import the Pandas library as pd.</li>\n",
        "    <li>Read the movies_data.csv file into a Pandas DataFrame named movies_df.</li>\n",
        "    <li>Display the first five rows of the DataFrame to ensure it's loaded correctly.</li>\n",
        "</ul>"
      ]
    },
    {
      "cell_type": "code",
      "source": [
        "# allow colab to access the movies_data.csv file -- Must be run!\n",
        "\n",
        "!gdown https://raw.githubusercontent.com/cjminette/CSC155-colab/refs/heads/main/movies_data.csv\n"
      ],
      "metadata": {
        "id": "i88ZXwg1L7rd",
        "outputId": "a46b3a8a-2d5f-42f4-8b00-e355ae7f43a4",
        "colab": {
          "base_uri": "https://localhost:8080/"
        }
      },
      "execution_count": 10,
      "outputs": [
        {
          "output_type": "stream",
          "name": "stdout",
          "text": [
            "Downloading...\n",
            "From: https://raw.githubusercontent.com/cjminette/CSC155-colab/refs/heads/main/movies_data.csv\n",
            "To: /content/movies_data.csv\n",
            "\r  0% 0.00/412 [00:00<?, ?B/s]\r661B [00:00, 1.28MB/s]       \n"
          ]
        }
      ]
    },
    {
      "cell_type": "code",
      "execution_count": 12,
      "metadata": {
        "id": "hRn2CcWWL5bQ"
      },
      "outputs": [],
      "source": [
        "#Your code for Task 1 here"
      ]
    },
    {
      "cell_type": "markdown",
      "metadata": {
        "id": "19MQ64UIL5bR"
      },
      "source": [
        "<h3>Task 2: Data Exploration</h3>\n",
        "<ul>\n",
        "    <li>Determine and print the total number of movies in the dataset.</li>\n",
        "    <li>List all unique genres found in the dataset.</li>\n",
        "</ul>"
      ]
    },
    {
      "cell_type": "code",
      "execution_count": null,
      "metadata": {
        "id": "yatXGmJjL5bR"
      },
      "outputs": [],
      "source": [
        "#Your code for Task 2 here"
      ]
    },
    {
      "cell_type": "markdown",
      "metadata": {
        "id": "TDbD3hH5L5bR"
      },
      "source": [
        "<h3>Task 3: Data Filtering</h3>\n",
        "<ul>\n",
        "    <li>Extract and display all movies directed by a director of your choice (e.g., \"Steven Spielberg\"). Replace \"Steven Spielberg\" with the name of the director you choose.</li>\n",
        "    <li>Find and display all movies with an IMDb rating higher than 8.0.</li>\n",
        "</ul>"
      ]
    },
    {
      "cell_type": "code",
      "execution_count": null,
      "metadata": {
        "id": "xpMAiWLVL5bR"
      },
      "outputs": [],
      "source": [
        "#Your code for Task 3 here"
      ]
    },
    {
      "cell_type": "markdown",
      "metadata": {
        "id": "4YlbsghDL5bS"
      },
      "source": [
        "<h3>Task 4: Analyzing Data</h3>\n",
        "<ul>\n",
        "    <li>Identify and display the newest movie in the dataset.</li>\n",
        "    <li>Calculate the average IMDb rating of movies in the dataset.</li>\n",
        "    <li>Find the average IMDb rating for each genre.</li>\n",
        "</ul>"
      ]
    },
    {
      "cell_type": "code",
      "execution_count": null,
      "metadata": {
        "id": "vJr6hH9iL5bS"
      },
      "outputs": [],
      "source": [
        "#Your code for task 4 here. Feel free to insert extra code boxes for this one."
      ]
    },
    {
      "cell_type": "markdown",
      "metadata": {
        "id": "cgEB2kaxL5bS"
      },
      "source": [
        "<h3>Submission Guidelines</h3>\n",
        "<h4>Using VSCode:</h4>\n",
        "<ul>\n",
        "    <li>Complete the tasks in a Jupyter notebook.</li>\n",
        "    <li>Submit the notebook file via d2l.</li>\n",
        "</ul>\n",
        "<h4>Using Google Colab:</h4>\n",
        "<ul>\n",
        "    <li>Submit a link to d2l using a Word or text file. This link should share your lab via google colab</li>\n",
        "    <li>To get your link:</li>\n",
        "    <ol>\n",
        "        <li>Click File > Save to Drive or use the Copy to Drive button</li>\n",
        "        <li>Click Share > Anyone with the link > Viewer > Copy link</li>\n",
        "        <li>Paste your link into a Word or text file and submit it</li>\n",
        "    </ol>\n",
        "</ul>\n"
      ]
    }
  ],
  "metadata": {
    "kernelspec": {
      "display_name": "Python 3",
      "language": "python",
      "name": "python3"
    },
    "language_info": {
      "codemirror_mode": {
        "name": "ipython",
        "version": 3
      },
      "file_extension": ".py",
      "mimetype": "text/x-python",
      "name": "python",
      "nbconvert_exporter": "python",
      "pygments_lexer": "ipython3",
      "version": "3.12.1"
    },
    "colab": {
      "provenance": []
    }
  },
  "nbformat": 4,
  "nbformat_minor": 0
}